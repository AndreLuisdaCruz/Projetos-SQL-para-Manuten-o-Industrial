{
 "cells": [
  {
   "cell_type": "code",
   "execution_count": 0,
   "metadata": {
    "application/vnd.databricks.v1+cell": {
     "cellMetadata": {
      "byteLimit": 2048000,
      "rowLimit": 10000
     },
     "inputWidgets": {},
     "nuid": "60503933-5f86-4cf9-aeb1-ae77cd80a3e8",
     "showTitle": false,
     "tableResultSettingsMap": {},
     "title": ""
    }
   },
   "outputs": [],
   "source": [
    "SELECT current_catalog(), current_schema();"
   ]
  },
  {
   "cell_type": "code",
   "execution_count": 0,
   "metadata": {
    "application/vnd.databricks.v1+cell": {
     "cellMetadata": {
      "byteLimit": 2048000,
      "rowLimit": 10000
     },
     "inputWidgets": {},
     "nuid": "f3c653e0-2997-4c71-ae99-32dfb17392d8",
     "showTitle": false,
     "tableResultSettingsMap": {},
     "title": ""
    }
   },
   "outputs": [],
   "source": [
    "-- Tabela de Dados Brutos ocorrencias_raw, Tabela Maquinas e Tabela Plano_Manutencao\n",
    "-- Define o catálogo e o esquema\n",
    "\n",
    "USE CATALOG workspace;\n",
    "USE default;\n",
    "\n",
    "-- Cria Tabela 'Maquinas'\n",
    "CREATE OR REPLACE TABLE workspace.default.Maquinas (\n",
    "  ID_Maquina STRING,\n",
    "  Modelo STRING,\n",
    "  Setor STRING,\n",
    "  Data_Instalacao DATE\n",
    ") USING DELTA;\n",
    "\n",
    "-- Insere dados na tabela Maquinas\n",
    "INSERT INTO workspace.default.Maquinas (ID_Maquina, Modelo, Setor, Data_Instalacao) VALUES\n",
    "('M-001', 'Torno CNC 2000', 'Usinagem', '2020-05-15'),\n",
    "('M-002', 'Fresadora Vertical X', 'Usinagem', '2021-02-20'),\n",
    "('M-003', 'Prensa Hidráulica 5T', 'Estamparia', '2019-11-10'),\n",
    "('M-004', 'Robô Soldador A1', 'Montagem', '2022-08-01'),\n",
    "('M-005', 'Injetora de Plástico P500', 'Injeção', '2023-03-25'),\n",
    "('M-006', 'Soldadora Elétrica V3', 'Montagem', '2021-09-01'),\n",
    "('M-007', 'Máquina de Corte a Laser', 'Corte', '2023-01-10'),\n",
    "('M-008', 'Robô de Pintura', 'Pintura', '2022-05-30'),\n",
    "('M-009', 'Máquina de Embalagem', 'Embalagem', '2021-04-12'),\n",
    "('M-010', 'Empacotadora Automática', 'Embalagem', '2022-10-20');\n",
    "\n",
    "\n",
    "-- Cria a Tabela de dados brutos 'ocorrencias_raw'\n",
    "CREATE OR REPLACE TABLE workspace.default.ocorrencias_raw (\n",
    "    ID_Ocorrencia INT,\n",
    "    ID_Maquina STRING,\n",
    "    Data_Inicio_Parada TIMESTAMP,\n",
    "    Data_Fim_Parada TIMESTAMP,\n",
    "    Causa_Falha STRING,\n",
    "    Tipo_Manutencao STRING\n",
    ") USING DELTA;\n",
    "\n",
    "-- Insere uma base de dados para análise robusta\n",
    "INSERT INTO workspace.default.ocorrencias_raw (ID_Ocorrencia, ID_Maquina, Data_Inicio_Parada, Data_Fim_Parada, Causa_Falha, Tipo_Manutencao) VALUES\n",
    "(1, 'M-001', '2024-04-01 08:00:00', '2024-04-01 10:30:00', 'Problema no fuso de avanço', 'Corretiva'),\n",
    "(2, 'M-003', '2024-04-02 14:15:00', '2024-04-02 14:45:00', 'Ajuste de pressão', 'Preventiva'),\n",
    "(3, 'M-001', '2024-04-05 09:00:00', '2024-04-05 15:00:00', 'Falha no sistema de refrigeração', 'Corretiva'),\n",
    "(4, 'M-002', '2024-04-06 10:00:00', '2024-04-06 11:30:00', 'Troca de ferramenta', 'Preventiva'),\n",
    "(5, 'M-004', '2024-04-07 16:00:00', '2024-04-07 16:15:00', 'Sensor de proximidade sujo', 'Preditiva'),\n",
    "(6, 'M-001', '2024-04-08 11:00:00', '2024-04-08 12:00:00', 'Quebra de peça (desgaste)', 'Corretiva'),\n",
    "(7, 'M-005', '2024-04-09 07:00:00', '2024-04-09 09:00:00', 'Superaquecimento do motor', 'Corretiva'),\n",
    "(8, 'M-003', '2024-04-10 13:00:00', '2024-04-10 13:30:00', 'Lubrificação geral', 'Preventiva'),\n",
    "(9, 'M-005', '2024-04-12 11:00:00', '2024-04-12 13:00:00', 'Desalinhamento do molde', 'Corretiva'),\n",
    "(10, 'M-003', '2024-04-15 08:30:00', '2024-04-15 09:30:00', 'Problema hidráulico', 'Corretiva'),\n",
    "(11, 'M-006', '2024-04-16 10:00:00', '2024-04-16 11:45:00', 'Falha na tocha de solda', 'Corretiva'),\n",
    "(12, 'M-007', '2024-04-17 14:00:00', '2024-04-17 14:20:00', 'Ajuste de potência do laser', 'Preventiva'),\n",
    "(13, 'M-008', '2024-04-18 09:00:00', '2024-04-18 10:00:00', 'Troca de filtro de ar', 'Preventiva'),\n",
    "(14, 'M-009', '2024-04-19 15:30:00', '2024-04-19 16:00:00', 'Correia de transporte solta', 'Corretiva'),\n",
    "(15, 'M-010', '2024-04-20 07:00:00', '2024-04-20 08:00:00', 'Manutenção programada', 'Preventiva'),\n",
    "(16, 'M-006', '2024-04-22 13:00:00', '2024-04-22 15:30:00', 'Problema no alimentador de arame', 'Corretiva'),\n",
    "(17, 'M-007', '2024-04-23 09:00:00', '2024-04-23 10:30:00', 'Sensor de temperatura descalibrado', 'Preditiva'),\n",
    "(18, 'M-008', '2024-04-24 11:00:00', '2024-04-24 13:00:00', 'Problema no bico de pulverização', 'Corretiva'),\n",
    "(19, 'M-009', '2024-04-25 08:00:00', '2024-04-25 08:45:00', 'Limpeza de sensores', 'Preventiva'),\n",
    "(20, 'M-010', '2024-04-26 14:00:00', '2024-04-26 15:00:00', 'Falha no sistema de selagem', 'Corretiva'),\n",
    "(21, 'M-001', '2024-04-27 10:00:00', '2024-04-27 10:45:00', 'Quebra de ferramenta', 'Corretiva'),\n",
    "(22, 'M-002', '2024-04-28 15:00:00', '2024-04-28 17:00:00', 'Motor superaquecido', 'Corretiva'),\n",
    "(23, 'M-003', '2024-04-29 09:00:00', '2024-04-29 10:30:00', 'Manutenção preventiva geral', 'Preventiva'),\n",
    "(24, 'M-004', '2024-04-30 11:00:00', '2024-04-30 11:30:00', 'Ajuste de alinhamento', 'Preventiva'),\n",
    "(25, 'M-005', '2024-05-01 07:00:00', '2024-05-01 09:00:00', 'Falha no sistema de injeção', 'Corretiva'),\n",
    "(26, 'M-006', '2024-05-02 14:00:00', '2024-05-02 14:30:00', 'Troca de consumível', 'Preventiva'),\n",
    "(27, 'M-007', '2024-05-03 10:00:00', '2024-05-03 11:00:00', 'Desalinhamento do espelho', 'Corretiva'),\n",
    "(28, 'M-008', '2024-05-04 16:00:00', '2024-05-04 16:30:00', 'Sensor de tinta falhando', 'Corretiva'),\n",
    "(29, 'M-009', '2024-05-05 09:00:00', '2024-05-05 09:30:00', 'Embalagem presa', 'Corretiva'),\n",
    "(30, 'M-010', '2024-05-06 13:00:00', '2024-05-06 14:00:00', 'Sensor de peso com defeito', 'Corretiva'),\n",
    "(31, 'M-001', '2024-05-07 14:00:00', '2024-05-07 15:00:00', 'Ajuste de usinagem', 'Corretiva'),\n",
    "(32, 'M-002', '2024-05-08 09:00:00', '2024-05-08 10:00:00', 'Manutenção preventiva geral', 'Preventiva'),\n",
    "(33, 'M-003', '2024-05-09 11:00:00', '2024-05-09 12:00:00', 'Falha no sistema de lubrificação', 'Corretiva'),\n",
    "(34, 'M-004', '2024-05-10 10:00:00', '2024-05-10 10:45:00', 'Célula de carga com defeito', 'Preditiva'),\n",
    "(35, 'M-006', '2024-05-11 15:00:00', '2024-05-11 16:00:00', 'Fusível queimado', 'Corretiva'),\n",
    "(36, 'M-007', '2024-05-12 12:00:00', '2024-05-12 13:15:00', 'Troca de espelho', 'Preventiva'),\n",
    "(37, 'M-008', '2024-05-13 08:30:00', '2024-05-13 09:00:00', 'Limpeza da pistola de pintura', 'Preventiva'),\n",
    "(38, 'M-009', '2024-05-14 14:00:00', '2024-05-14 16:00:00', 'Falha no sistema de corte', 'Corretiva'),\n",
    "(39, 'M-010', '2024-05-15 10:00:00', '2024-05-15 11:00:00', 'Desgaste da correia transportadora', 'Preditiva'),\n",
    "(40, 'M-001', '2024-05-16 07:00:00', '2024-05-16 08:30:00', 'Problema de vibração', 'Preditiva'),\n",
    "(41, 'M-002', '2024-05-17 11:00:00', '2024-05-17 12:45:00', 'Troca de óleo', 'Preventiva'),\n",
    "(42, 'M-003', '2024-05-18 13:00:00', '2024-05-18 14:30:00', 'Falha no cilindro pneumático', 'Corretiva'),\n",
    "(43, 'M-004', '2024-05-19 09:00:00', '2024-05-19 10:00:00', 'Problema no software de controle', 'Corretiva'),\n",
    "(44, 'M-005', '2024-05-20 15:00:00', '2024-05-20 16:00:00', 'Sensor de pressão com defeito', 'Preditiva'),\n",
    "(45, 'M-006', '2024-05-21 08:00:00', '2024-05-21 09:30:00', 'Manutenção elétrica', 'Corretiva'),\n",
    "(46, 'M-007', '2024-05-22 10:00:00', '2024-05-22 11:00:00', 'Manutenção do sistema de refrigeração', 'Preventiva'),\n",
    "(47, 'M-008', '2024-05-23 14:00:00', '2024-05-23 15:30:00', 'Problema no transportador', 'Corretiva'),\n",
    "(48, 'M-009', '2024-05-24 16:00:00', '2024-05-24 16:45:00', 'Ajuste de alinhamento de embalagens', 'Preventiva'),\n",
    "(49, 'M-010', '2024-05-25 09:00:00', '2024-05-25 10:00:00', 'Falha no painel de controle', 'Corretiva'),\n",
    "(50, 'M-001', '2024-05-26 11:00:00', '2024-05-26 13:00:00', 'Falha no rolamento', 'Corretiva');\n",
    "\n",
    "-- Cria a tabela 'Plano_Manutencao_Preventiva' para análise de adesão\n",
    "CREATE OR REPLACE TABLE workspace.default.Plano_Manutencao_Preventiva (\n",
    "    ID_Plano INT,\n",
    "    ID_Maquina STRING,\n",
    "    Data_Programada DATE,\n",
    "    Descricao STRING\n",
    ") USING DELTA;\n",
    "\n",
    "-- Insere os dados no plano de manutenção\n",
    "INSERT INTO workspace.default.Plano_Manutencao_Preventiva (ID_Plano, ID_Maquina, Data_Programada, Descricao) VALUES\n",
    "(1, 'M-002', '2024-04-06', 'Troca de ferramenta'),\n",
    "(2, 'M-003', '2024-04-10', 'Lubrificação geral'),\n",
    "(3, 'M-007', '2024-04-17', 'Ajuste de potência do laser'),\n",
    "(4, 'M-008', '2024-04-18', 'Troca de filtro de ar'),\n",
    "(5, 'M-009', '2024-04-25', 'Limpeza de sensores'),\n",
    "(6, 'M-010', '2024-04-20', 'Manutenção programada'),\n",
    "(7, 'M-003', '2024-04-29', 'Manutenção preventiva geral'),\n",
    "(8, 'M-004', '2024-04-30', 'Ajuste de alinhamento'),\n",
    "(9, 'M-006', '2024-05-02', 'Troca de consumível'),\n",
    "(10, 'M-002', '2024-05-08', 'Manutenção preventiva geral'),\n",
    "(11, 'M-007', '2024-05-12', 'Troca de espelho'),\n",
    "(12, 'M-008', '2024-05-13', 'Limpeza da pistola de pintura'),\n",
    "(13, 'M-009', '2024-05-24', 'Ajuste de alinhamento de embalagens'),\n",
    "(14, 'M-007', '2024-05-22', 'Manutenção do sistema de refrigeração'),\n",
    "(15, 'M-002', '2024-05-17', 'Troca de óleo'),\n",
    "(16, 'M-001', '2024-05-10', 'Revisão do fuso de avanço'),\n",
    "(17, 'M-003', '2024-05-15', 'Verificação do sistema hidráulico'),\n",
    "(18, 'M-004', '2024-05-20', 'Calibração de sensores'),\n",
    "(19, 'M-005', '2024-05-25', 'Inspeção do motor'),\n",
    "(20, 'M-006', '2024-05-28', 'Verificação dos contatos elétricos'),\n",
    "(21, 'M-007', '2024-05-30', 'Limpeza do sistema de corte'),\n",
    "(22, 'M-008', '2024-06-05', 'Ajuste da pistola de pintura'),\n",
    "(23, 'M-009', '2024-06-10', 'Troca da correia de transporte'),\n",
    "(24, 'M-010', '2024-06-15', 'Revisão do sistema de selagem'),\n",
    "(25, 'M-001', '2024-06-20', 'Lubrificação geral'),\n",
    "(26, 'M-002', '2024-06-25', 'Inspeção de rolamentos'),\n",
    "(27, 'M-003', '2024-06-28', 'Calibração de pressão'),\n",
    "(28, 'M-004', '2024-07-01', 'Manutenção de software'),\n",
    "(29, 'M-005', '2024-07-05', 'Verificação do sistema de injeção'),\n",
    "(30, 'M-006', '2024-07-10', 'Manutenção preventiva geral'),\n",
    "(31, 'M-001', '2024-07-15', 'Revisão do sistema de refrigeração'),\n",
    "(32, 'M-002', '2024-07-20', 'Inspeção do motor'),\n",
    "(33, 'M-003', '2024-07-25', 'Verificação de sensores'),\n",
    "(34, 'M-004', '2024-07-30', 'Ajuste de potência do laser'),\n",
    "(35, 'M-005', '2024-08-05', 'Inspeção de fiação'),\n",
    "(36, 'M-006', '2024-08-10', 'Lubrificação de rolamentos'),\n",
    "(37, 'M-007', '2024-08-15', 'Ajuste de foco do laser'),\n",
    "(38, 'M-008', '2024-08-20', 'Calibração de cor'),\n",
    "(39, 'M-009', '2024-08-25', 'Troca de correia de vedação'),\n",
    "(40, 'M-010', '2024-08-30', 'Revisão de painel de controle'),\n",
    "(41, 'M-001', '2024-09-05', 'Inspeção de rolamento'),\n",
    "(42, 'M-002', '2024-09-10', 'Limpeza geral'),\n",
    "(43, 'M-003', '2024-09-15', 'Teste de pressão'),\n",
    "(44, 'M-004', '2024-09-20', 'Verificação de software'),\n",
    "(45, 'M-005', '2024-09-25', 'Inspeção de sistema de injeção'),\n",
    "(46, 'M-006', '2024-09-30', 'Revisão de contatos elétricos'),\n",
    "(47, 'M-007', '2024-10-05', 'Revisão do sistema de corte'),\n",
    "(48, 'M-008', '2024-10-10', 'Ajuste da pistola de pintura'),\n",
    "(49, 'M-009', '2024-10-15', 'Troca da correia de transporte'),\n",
    "(50, 'M-010', '2024-10-20', 'Verificação do sistema de selagem');"
   ]
  },
  {
   "cell_type": "code",
   "execution_count": 0,
   "metadata": {
    "application/vnd.databricks.v1+cell": {
     "cellMetadata": {
      "byteLimit": 2048000,
      "rowLimit": 10000
     },
     "inputWidgets": {},
     "nuid": "6c6f9c18-5b89-4d48-957e-37f5ae10864d",
     "showTitle": false,
     "tableResultSettingsMap": {},
     "title": ""
    }
   },
   "outputs": [],
   "source": [
    "--Tabela Enriquecida manutencao_gold\n",
    "\n",
    "CREATE OR REPLACE TABLE workspace.default.manutencao_gold AS\n",
    "SELECT\n",
    "    ID_Ocorrencia,\n",
    "    ID_Maquina,\n",
    "    Data_Inicio_Parada,\n",
    "    Data_Fim_Parada,\n",
    "    Causa_Falha,\n",
    "    Tipo_Manutencao,\n",
    "\n",
    "    -- Calcula a duração da parada em horas (formato decimal)\n",
    "    (UNIX_TIMESTAMP(Data_Fim_Parada) - UNIX_TIMESTAMP(Data_Inicio_Parada)) / 3600 AS Duracao_Parada_Horas,\n",
    "\n",
    "    -- Classifica a gravidade da falha com base na duração\n",
    "    CASE\n",
    "        WHEN (UNIX_TIMESTAMP(Data_Fim_Parada) - UNIX_TIMESTAMP(Data_Inicio_Parada)) / 3600 > 3 THEN 'Parada Critica'\n",
    "        WHEN (UNIX_TIMESTAMP(Data_Fim_Parada) - UNIX_TIMESTAMP(Data_Inicio_Parada)) / 3600 > 1 THEN 'Parada Moderada'\n",
    "        ELSE 'Parada Breve'\n",
    "    END AS Gravidade_Parada\n",
    "FROM workspace.default.ocorrencias_raw;\n",
    "\n",
    "-- Verifica o resultado da tabela gold\n",
    "SELECT * FROM workspace.default.manutencao_gold;"
   ]
  },
  {
   "cell_type": "code",
   "execution_count": 0,
   "metadata": {
    "application/vnd.databricks.v1+cell": {
     "cellMetadata": {
      "byteLimit": 2048000,
      "rowLimit": 10000
     },
     "inputWidgets": {},
     "nuid": "fdecd27a-8f8d-486e-9757-010ad17018c9",
     "showTitle": false,
     "tableResultSettingsMap": {},
     "title": ""
    }
   },
   "outputs": [],
   "source": [
    "--Cálculo do MTTR (Tempo Médio para Reparo)\n",
    "\n",
    "SELECT\n",
    "    Causa_Falha,\n",
    "    Tipo_Manutencao,\n",
    "    AVG(Duracao_Parada_Horas) AS MTTR_Horas\n",
    "FROM workspace.default.manutencao_gold\n",
    "GROUP BY Causa_Falha, Tipo_Manutencao\n",
    "ORDER BY MTTR_Horas DESC;"
   ]
  },
  {
   "cell_type": "code",
   "execution_count": 0,
   "metadata": {
    "application/vnd.databricks.v1+cell": {
     "cellMetadata": {
      "byteLimit": 2048000,
      "rowLimit": 10000
     },
     "inputWidgets": {},
     "nuid": "255bfcd5-c2fe-461c-9241-a32a6ff0fba6",
     "showTitle": false,
     "tableResultSettingsMap": {},
     "title": ""
    }
   },
   "outputs": [],
   "source": [
    "-- Cálculo do MTBF (Tempo Médio Entre Falhas)\n",
    "\n",
    "-- Calcula o tempo de operação entre falhas corretivas para cada máquina\n",
    "WITH Tempo_Operacao AS (\n",
    "    SELECT\n",
    "        ID_Maquina,\n",
    "        Data_Inicio_Parada,\n",
    "        -- Pega a data de fim de parada da ocorrência anterior\n",
    "        LAG(Data_Fim_Parada) OVER (PARTITION BY ID_Maquina ORDER BY Data_Inicio_Parada) AS Data_Fim_Parada_Anterior\n",
    "    FROM workspace.default.manutencao_gold\n",
    "    WHERE Tipo_Manutencao = 'Corretiva'\n",
    ")\n",
    "\n",
    "-- Calcula a média dos tempos de operação para obter o MTBF\n",
    "SELECT\n",
    "    m.Modelo,\n",
    "    m.Setor,\n",
    "    \n",
    "    -- Calcula a média da diferença entre a data de início da parada atual e a data de fim da parada anterior\n",
    "    AVG((UNIX_TIMESTAMP(t1.Data_Inicio_Parada) - UNIX_TIMESTAMP(t1.Data_Fim_Parada_Anterior)) / 3600) AS MTBF_Horas\n",
    "FROM Tempo_Operacao t1\n",
    "JOIN workspace.default.Maquinas m ON t1.ID_Maquina = m.ID_Maquina\n",
    "WHERE t1.Data_Fim_Parada_Anterior IS NOT NULL -- Exclui a primeira ocorrência, pois não tem um tempo anterior para comparar\n",
    "GROUP BY m.Modelo, m.Setor\n",
    "ORDER BY MTBF_Horas DESC;"
   ]
  },
  {
   "cell_type": "code",
   "execution_count": 0,
   "metadata": {
    "application/vnd.databricks.v1+cell": {
     "cellMetadata": {
      "byteLimit": 2048000,
      "rowLimit": 10000
     },
     "inputWidgets": {},
     "nuid": "813f019f-0806-434a-93db-66b0653feca4",
     "showTitle": false,
     "tableResultSettingsMap": {},
     "title": ""
    }
   },
   "outputs": [],
   "source": [
    "--Análise de Frequência e Gravidade das Paradas\n",
    "\n",
    "SELECT\n",
    "    Gravidade_Parada,\n",
    "    COUNT(ID_Ocorrencia) AS Total_Ocorrencias,\n",
    "    SUM(Duracao_Parada_Horas) AS Tempo_Total_Parada\n",
    "FROM workspace.default.manutencao_gold\n",
    "GROUP BY Gravidade_Parada\n",
    "ORDER BY Total_Ocorrencias DESC;"
   ]
  },
  {
   "cell_type": "code",
   "execution_count": 0,
   "metadata": {
    "application/vnd.databricks.v1+cell": {
     "cellMetadata": {
      "byteLimit": 2048000,
      "rowLimit": 10000
     },
     "inputWidgets": {},
     "nuid": "53908015-78c6-4de4-b522-a5c55a1bae17",
     "showTitle": false,
     "tableResultSettingsMap": {},
     "title": ""
    }
   },
   "outputs": [],
   "source": [
    "--Ranking de Máquinas e Setores por Paradas\n",
    "\n",
    "SELECT\n",
    "    m.Modelo,\n",
    "    m.Setor,\n",
    "    COUNT(o.ID_Ocorrencia) AS Total_Paradas,\n",
    "    SUM(o.Duracao_Parada_Horas) AS Tempo_Total_Ociosidade_Horas\n",
    "FROM workspace.default.manutencao_gold o\n",
    "JOIN workspace.default.Maquinas m ON o.ID_Maquina = m.ID_Maquina\n",
    "GROUP BY m.Modelo, m.Setor\n",
    "ORDER BY Tempo_Total_Ociosidade_Horas DESC;"
   ]
  },
  {
   "cell_type": "code",
   "execution_count": 0,
   "metadata": {
    "application/vnd.databricks.v1+cell": {
     "cellMetadata": {
      "byteLimit": 2048000,
      "rowLimit": 10000
     },
     "inputWidgets": {},
     "nuid": "25e15364-85ae-474c-bdee-52b2ad01f220",
     "showTitle": false,
     "tableResultSettingsMap": {},
     "title": ""
    }
   },
   "outputs": [],
   "source": [
    "--Análise de KPIs por Mês\n",
    "\n",
    "SELECT\n",
    "    DATE_TRUNC('month', Data_Inicio_Parada) AS Mes,\n",
    "    COUNT(ID_Ocorrencia) AS Total_Paradas,\n",
    "    SUM(Duracao_Parada_Horas) AS Tempo_Total_Parada_Horas,\n",
    "    AVG(CASE WHEN Tipo_Manutencao = 'Corretiva' THEN Duracao_Parada_Horas ELSE NULL END) AS MTTR_Corretiva\n",
    "FROM workspace.default.manutencao_gold\n",
    "GROUP BY Mes\n",
    "ORDER BY Mes ASC;"
   ]
  },
  {
   "cell_type": "code",
   "execution_count": 0,
   "metadata": {
    "application/vnd.databricks.v1+cell": {
     "cellMetadata": {
      "byteLimit": 2048000,
      "rowLimit": 10000
     },
     "inputWidgets": {},
     "nuid": "b4551f19-2e1f-4fdc-979a-6c0896a96c9e",
     "showTitle": false,
     "tableResultSettingsMap": {},
     "title": ""
    }
   },
   "outputs": [],
   "source": [
    "--Top 5 Causas de Falha por Impacto (Tempo de Parada)\n",
    "\n",
    "SELECT\n",
    "    Causa_Falha,\n",
    "    COUNT(ID_Ocorrencia) AS Numero_Ocorrencias,\n",
    "    SUM(Duracao_Parada_Horas) AS Tempo_Total_Parada_Horas\n",
    "FROM workspace.default.manutencao_gold\n",
    "GROUP BY Causa_Falha\n",
    "ORDER BY Tempo_Total_Parada_Horas DESC\n",
    "LIMIT 5;"
   ]
  },
  {
   "cell_type": "code",
   "execution_count": 0,
   "metadata": {
    "application/vnd.databricks.v1+cell": {
     "cellMetadata": {
      "byteLimit": 2048000,
      "rowLimit": 10000
     },
     "inputWidgets": {},
     "nuid": "07a57bb0-49e4-43b0-b6c4-797bec0fe93c",
     "showTitle": false,
     "tableResultSettingsMap": {},
     "title": ""
    }
   },
   "outputs": [],
   "source": [
    "--Análise de Adesão ao Plano de Manutenção Preventiva\n",
    "\n",
    "SELECT\n",
    "    p.ID_Plano,\n",
    "    p.ID_Maquina,\n",
    "    p.Data_Programada,\n",
    "    p.Descricao AS Plano_Descricao,\n",
    "    -- Verifica se a manutencao planeada foi executada perto da data prevista\n",
    "    CASE WHEN o.ID_Ocorrencia IS NOT NULL THEN 'Executada' ELSE 'Nao Executada' END AS Status_Adesao,\n",
    "    o.Data_Inicio_Parada AS Data_Execucao\n",
    "FROM workspace.default.Plano_Manutencao_Preventiva p\n",
    "LEFT JOIN workspace.default.ocorrencias_raw o\n",
    "    ON p.ID_Maquina = o.ID_Maquina\n",
    "    AND p.Descricao = o.Causa_Falha -- Assumindo que a descricao do plano corresponde à causa da falha\n",
    "    AND ABS(DATEDIFF(p.Data_Programada, o.Data_Inicio_Parada)) <= 3 -- Considera executada se foi dentro de 3 dias do planejado\n",
    "ORDER BY p.Data_Programada ASC;"
   ]
  },
  {
   "cell_type": "code",
   "execution_count": 0,
   "metadata": {
    "application/vnd.databricks.v1+cell": {
     "cellMetadata": {
      "byteLimit": 2048000,
      "rowLimit": 10000
     },
     "inputWidgets": {},
     "nuid": "5a5755b4-c3e9-4408-aa22-e61a99c5eccc",
     "showTitle": false,
     "tableResultSettingsMap": {},
     "title": ""
    }
   },
   "outputs": [
    {
     "output_type": "display_data",
     "data": {
      "text/plain": [
       "Databricks visualization. Run in Databricks to view."
      ]
     },
     "metadata": {
      "application/vnd.databricks.v1.subcommand+json": {
       "baseErrorDetails": null,
       "bindings": {},
       "collapsed": false,
       "command": "%python\n__backend_agg_display_orig = display\n__backend_agg_dfs = []\ndef __backend_agg_display_new(df):\n    __backend_agg_df_modules = [\"pandas.core.frame\", \"databricks.koalas.frame\", \"pyspark.sql.dataframe\", \"pyspark.pandas.frame\", \"pyspark.sql.connect.dataframe\"]\n    if (type(df).__module__ in __backend_agg_df_modules and type(df).__name__ == 'DataFrame') or isinstance(df, list):\n        __backend_agg_dfs.append(df)\n\ndisplay = __backend_agg_display_new\n\ndef __backend_agg_user_code_fn():\n    import base64\n    exec(base64.standard_b64decode(\"IyBDb21hbmRvIHBhcmEgcm9kYXIgYSBjb25zdWx0YSBTUUwgZSBhcm1hemVuYXIgbyByZXN1bHRhZG8gZW0gdW0gRGF0YUZyYW1lCmRmX210YmYgPSBzcGFyay5zcWwoIiIiCldJVEggVGVtcG9fT3BlcmFjYW8gQVMgKAogICAgU0VMRUNUCiAgICAgICAgSURfTWFxdWluYSwKICAgICAgICBEYXRhX0luaWNpb19QYXJhZGEsCiAgICAgICAgTEFHKERhdGFfRmltX1BhcmFkYSkgT1ZFUiAoUEFSVElUSU9OIEJZIElEX01hcXVpbmEgT1JERVIgQlkgRGF0YV9JbmljaW9fUGFyYWRhKSBBUyBEYXRhX0ZpbV9QYXJhZGFfQW50ZXJpb3IKICAgIEZST00gd29ya3NwYWNlLmRlZmF1bHQubWFudXRlbmNhb19nb2xkCiAgICBXSEVSRSBUaXBvX01hbnV0ZW5jYW8gPSAnQ29ycmV0aXZhJwopClNFTEVDVAogICAgbS5Nb2RlbG8sCiAgICBtLlNldG9yLAogICAgQVZHKChVTklYX1RJTUVTVEFNUCh0MS5EYXRhX0luaWNpb19QYXJhZGEpIC0gVU5JWF9USU1FU1RBTVAodDEuRGF0YV9GaW1fUGFyYWRhX0FudGVyaW9yKSkgLyAzNjAwKSBBUyBNVEJGX0hvcmFzCkZST00gVGVtcG9fT3BlcmFjYW8gdDEKSk9JTiB3b3Jrc3BhY2UuZGVmYXVsdC5NYXF1aW5hcyBtIE9OIHQxLklEX01hcXVpbmEgPSBtLklEX01hcXVpbmEKV0hFUkUgdDEuRGF0YV9GaW1fUGFyYWRhX0FudGVyaW9yIElTIE5PVCBOVUxMCkdST1VQIEJZIG0uTW9kZWxvLCBtLlNldG9yCk9SREVSIEJZIE1UQkZfSG9yYXMgREVTQwoiIiIpCgojIEV4aWJlIG8gZ3LDoWZpY28gZGUgYmFycmFzIG5vIERhdGFicmlja3MKZGlzcGxheShkZl9tdGJmKQ==\").decode())\n\ntry:\n    # run user code\n    __backend_agg_user_code_fn()\n\n    #reset display function\n    display = __backend_agg_display_orig\n\n    if len(__backend_agg_dfs) > 0:\n        # create a temp view\n        if type(__backend_agg_dfs[0]).__module__ == \"databricks.koalas.frame\":\n            # koalas dataframe\n            __backend_agg_dfs[0].to_spark().createOrReplaceTempView(\"DatabricksView470964f\")\n        elif type(__backend_agg_dfs[0]).__module__ == \"pandas.core.frame\" or isinstance(__backend_agg_dfs[0], list):\n            # pandas dataframe\n            spark.createDataFrame(__backend_agg_dfs[0]).createOrReplaceTempView(\"DatabricksView470964f\")\n        else:\n            __backend_agg_dfs[0].createOrReplaceTempView(\"DatabricksView470964f\")\n        #run backend agg\n        display(spark.sql(\"\"\"WITH q AS (select * from DatabricksView470964f) SELECT `Modelo`,`Setor`,SUM(`MTBF_Horas`) `column_a32a45b884` FROM q GROUP BY `Modelo`,`Setor`\"\"\"))\n    else:\n        displayHTML(\"dataframe no longer exists. If you're using dataframe.display(), use display(dataframe) instead.\")\n\n\nfinally:\n    spark.sql(\"drop view if exists DatabricksView470964f\")\n    display = __backend_agg_display_orig\n    del __backend_agg_display_new\n    del __backend_agg_display_orig\n    del __backend_agg_dfs\n    del __backend_agg_user_code_fn\n\n",
       "commandTitle": "Visualization 1",
       "commandType": "auto",
       "commandVersion": 0,
       "commentThread": [],
       "commentsVisible": false,
       "contentSha256Hex": null,
       "customPlotOptions": {
        "redashChart": [
         {
          "key": "type",
          "value": "CHART"
         },
         {
          "key": "options",
          "value": {
           "alignYAxesAtZero": true,
           "coefficient": 1,
           "columnConfigurationMap": {
            "series": {
             "column": "Setor",
             "id": "column_a32a45b883"
            },
            "x": {
             "column": "Modelo",
             "id": "column_a32a45b882"
            },
            "y": [
             {
              "column": "MTBF_Horas",
              "id": "column_a32a45b884",
              "transform": "SUM"
             }
            ]
           },
           "dateTimeFormat": "DD/MM/YYYY HH:mm",
           "direction": {
            "type": "counterclockwise"
           },
           "error_y": {
            "type": "data",
            "visible": true
           },
           "globalSeriesType": "column",
           "isAggregationOn": true,
           "legend": {
            "traceorder": "normal"
           },
           "missingValuesAsZero": true,
           "numberFormat": "0,0.[00000]",
           "percentFormat": "0[.]00%",
           "reverseX": false,
           "series": {
            "error_y": {
             "type": "data",
             "visible": true
            },
            "stacking": "stack"
           },
           "seriesOptions": {
            "column_a32a45b884": {
             "name": "MTBF_Horas",
             "yAxis": 0
            }
           },
           "showDataLabels": false,
           "sizemode": "diameter",
           "sortX": false,
           "sortY": true,
           "swappedAxes": true,
           "textFormat": "",
           "useAggregationsUi": true,
           "valuesOptions": {},
           "version": 2,
           "xAxis": {
            "labels": {
             "enabled": true
            },
            "type": "-"
           },
           "yAxis": [
            {
             "type": "-"
            },
            {
             "opposite": true,
             "type": "-"
            }
           ]
          }
         }
        ]
       },
       "datasetPreviewNameToCmdIdMap": {},
       "diffDeletes": [],
       "diffInserts": [],
       "displayType": "redashChart",
       "error": null,
       "errorDetails": null,
       "errorSummary": null,
       "errorTraceType": null,
       "finishTime": 0,
       "globalVars": {},
       "guid": "",
       "height": "534",
       "hideCommandCode": false,
       "hideCommandResult": false,
       "iPythonMetadata": null,
       "inputWidgets": {},
       "isLockedInExamMode": false,
       "latestUser": "a user",
       "latestUserId": null,
       "listResultMetadata": null,
       "metadata": {
        "byteLimit": 2048000,
        "rowLimit": 10000
       },
       "nuid": "d6fbbb76-2654-4b8f-9ecf-a427e8d31f9b",
       "origId": 0,
       "parentHierarchy": [],
       "pivotAggregation": null,
       "pivotColumns": null,
       "position": 20.0,
       "resultDbfsErrorMessage": null,
       "resultDbfsStatus": "INLINED_IN_TREE",
       "results": null,
       "showCommandTitle": false,
       "startTime": 0,
       "state": "input",
       "streamStates": {},
       "subcommandOptions": {
        "queryPlan": {
         "groups": [
          {
           "column": "Modelo",
           "type": "column"
          },
          {
           "column": "Setor",
           "type": "column"
          }
         ],
         "selects": [
          {
           "column": "Modelo",
           "type": "column"
          },
          {
           "column": "Setor",
           "type": "column"
          },
          {
           "alias": "column_a32a45b884",
           "args": [
            {
             "column": "MTBF_Horas",
             "type": "column"
            }
           ],
           "function": "SUM",
           "type": "function"
          }
         ]
        }
       },
       "submitTime": 0,
       "subtype": "tableResultSubCmd.visualization",
       "tableResultIndex": 0,
       "tableResultSettingsMap": {},
       "useConsistentColors": false,
       "version": "CommandV1",
       "width": "1281",
       "workflows": null,
       "xColumns": null,
       "yColumns": null
      }
     },
     "output_type": "display_data"
    }
   ],
   "source": [
    "%python\n",
    "#Gráfico de MTBF por Máquina\n",
    "\n",
    "# Comando para rodar a consulta SQL e armazenar o resultado em um DataFrame\n",
    "df_mtbf = spark.sql(\"\"\"\n",
    "WITH Tempo_Operacao AS (\n",
    "    SELECT\n",
    "        ID_Maquina,\n",
    "        Data_Inicio_Parada,\n",
    "        LAG(Data_Fim_Parada) OVER (PARTITION BY ID_Maquina ORDER BY Data_Inicio_Parada) AS Data_Fim_Parada_Anterior\n",
    "    FROM workspace.default.manutencao_gold\n",
    "    WHERE Tipo_Manutencao = 'Corretiva'\n",
    ")\n",
    "SELECT\n",
    "    m.Modelo,\n",
    "    m.Setor,\n",
    "    AVG((UNIX_TIMESTAMP(t1.Data_Inicio_Parada) - UNIX_TIMESTAMP(t1.Data_Fim_Parada_Anterior)) / 3600) AS MTBF_Horas\n",
    "FROM Tempo_Operacao t1\n",
    "JOIN workspace.default.Maquinas m ON t1.ID_Maquina = m.ID_Maquina\n",
    "WHERE t1.Data_Fim_Parada_Anterior IS NOT NULL\n",
    "GROUP BY m.Modelo, m.Setor\n",
    "ORDER BY MTBF_Horas DESC\n",
    "\"\"\")\n",
    "\n",
    "# Exibe o gráfico de barras no Databricks\n",
    "display(df_mtbf)"
   ]
  },
  {
   "cell_type": "code",
   "execution_count": 0,
   "metadata": {
    "application/vnd.databricks.v1+cell": {
     "cellMetadata": {
      "byteLimit": 2048000,
      "rowLimit": 10000
     },
     "inputWidgets": {},
     "nuid": "045f79c6-7f29-486a-8a4f-dbc393274bd3",
     "showTitle": false,
     "tableResultSettingsMap": {},
     "title": ""
    }
   },
   "outputs": [
    {
     "output_type": "display_data",
     "data": {
      "text/plain": [
       "Databricks visualization. Run in Databricks to view."
      ]
     },
     "metadata": {
      "application/vnd.databricks.v1.subcommand+json": {
       "baseErrorDetails": null,
       "bindings": {},
       "collapsed": false,
       "command": "%python\n__backend_agg_display_orig = display\n__backend_agg_dfs = []\ndef __backend_agg_display_new(df):\n    __backend_agg_df_modules = [\"pandas.core.frame\", \"databricks.koalas.frame\", \"pyspark.sql.dataframe\", \"pyspark.pandas.frame\", \"pyspark.sql.connect.dataframe\"]\n    if (type(df).__module__ in __backend_agg_df_modules and type(df).__name__ == 'DataFrame') or isinstance(df, list):\n        __backend_agg_dfs.append(df)\n\ndisplay = __backend_agg_display_new\n\ndef __backend_agg_user_code_fn():\n    import base64\n    exec(base64.standard_b64decode(\"IyBDb21hbmRvIHBhcmEgcm9kYXIgYSBjb25zdWx0YSBTUUwgZSBhcm1hemVuYXIgbyByZXN1bHRhZG8gZW0gdW0gRGF0YUZyYW1lCmRmX3RvcF9jYXVzYXMgPSBzcGFyay5zcWwoIiIiClNFTEVDVAogICAgQ2F1c2FfRmFsaGEsCiAgICBDT1VOVChJRF9PY29ycmVuY2lhKSBBUyBOdW1lcm9fT2NvcnJlbmNpYXMsCiAgICBTVU0oRHVyYWNhb19QYXJhZGFfSG9yYXMpIEFTIFRlbXBvX1RvdGFsX1BhcmFkYV9Ib3JhcwpGUk9NIHdvcmtzcGFjZS5kZWZhdWx0Lm1hbnV0ZW5jYW9fZ29sZApHUk9VUCBCWSBDYXVzYV9GYWxoYQpPUkRFUiBCWSBUZW1wb19Ub3RhbF9QYXJhZGFfSG9yYXMgREVTQwpMSU1JVCA1CiIiIikKCiMgRXhpYmUgbyBncsOhZmljbyBkZSBiYXJyYXMgbm8gRGF0YWJyaWNrcwpkaXNwbGF5KGRmX3RvcF9jYXVzYXMp\").decode())\n\ntry:\n    # run user code\n    __backend_agg_user_code_fn()\n\n    #reset display function\n    display = __backend_agg_display_orig\n\n    if len(__backend_agg_dfs) > 0:\n        # create a temp view\n        if type(__backend_agg_dfs[0]).__module__ == \"databricks.koalas.frame\":\n            # koalas dataframe\n            __backend_agg_dfs[0].to_spark().createOrReplaceTempView(\"DatabricksViewcae52e5\")\n        elif type(__backend_agg_dfs[0]).__module__ == \"pandas.core.frame\" or isinstance(__backend_agg_dfs[0], list):\n            # pandas dataframe\n            spark.createDataFrame(__backend_agg_dfs[0]).createOrReplaceTempView(\"DatabricksViewcae52e5\")\n        else:\n            __backend_agg_dfs[0].createOrReplaceTempView(\"DatabricksViewcae52e5\")\n        #run backend agg\n        display(spark.sql(\"\"\"WITH q AS (select * from DatabricksViewcae52e5) SELECT `Causa_Falha`,SUM(`Tempo_Total_Parada_Horas`) `column_a32a45b898` FROM q GROUP BY `Causa_Falha`\"\"\"))\n    else:\n        displayHTML(\"dataframe no longer exists. If you're using dataframe.display(), use display(dataframe) instead.\")\n\n\nfinally:\n    spark.sql(\"drop view if exists DatabricksViewcae52e5\")\n    display = __backend_agg_display_orig\n    del __backend_agg_display_new\n    del __backend_agg_display_orig\n    del __backend_agg_dfs\n    del __backend_agg_user_code_fn\n\n",
       "commandTitle": "Visualization 1",
       "commandType": "auto",
       "commandVersion": 0,
       "commentThread": [],
       "commentsVisible": false,
       "contentSha256Hex": null,
       "customPlotOptions": {
        "redashChart": [
         {
          "key": "type",
          "value": "CHART"
         },
         {
          "key": "options",
          "value": {
           "alignYAxesAtZero": true,
           "coefficient": 1,
           "columnConfigurationMap": {
            "x": {
             "column": "Causa_Falha",
             "id": "column_a32a45b8101"
            },
            "y": [
             {
              "column": "Tempo_Total_Parada_Horas",
              "id": "column_a32a45b898",
              "transform": "SUM"
             }
            ]
           },
           "dateTimeFormat": "DD/MM/YYYY HH:mm",
           "direction": {
            "type": "counterclockwise"
           },
           "error_y": {
            "type": "data",
            "visible": true
           },
           "globalSeriesType": "column",
           "isAggregationOn": true,
           "legend": {
            "traceorder": "normal"
           },
           "missingValuesAsZero": true,
           "numberFormat": "0,0.[00000]",
           "percentFormat": "0[.]00%",
           "series": {
            "error_y": {
             "type": "data",
             "visible": true
            },
            "stacking": null
           },
           "seriesOptions": {
            "column_a32a45b898": {
             "name": "Tempo_Total_Parada_Horas",
             "type": "column",
             "yAxis": 0
            }
           },
           "showDataLabels": false,
           "sizemode": "diameter",
           "sortX": false,
           "sortY": true,
           "swappedAxes": true,
           "textFormat": "",
           "useAggregationsUi": true,
           "valuesOptions": {},
           "version": 2,
           "xAxis": {
            "labels": {
             "enabled": true
            },
            "type": "-"
           },
           "yAxis": [
            {
             "type": "-"
            },
            {
             "opposite": true,
             "type": "-"
            }
           ]
          }
         }
        ]
       },
       "datasetPreviewNameToCmdIdMap": {},
       "diffDeletes": [],
       "diffInserts": [],
       "displayType": "redashChart",
       "error": null,
       "errorDetails": null,
       "errorSummary": null,
       "errorTraceType": null,
       "finishTime": 0,
       "globalVars": {},
       "guid": "",
       "height": "388",
       "hideCommandCode": false,
       "hideCommandResult": false,
       "iPythonMetadata": null,
       "inputWidgets": {},
       "isLockedInExamMode": false,
       "latestUser": "a user",
       "latestUserId": null,
       "listResultMetadata": null,
       "metadata": {
        "byteLimit": 2048000,
        "rowLimit": 10000
       },
       "nuid": "82282f6b-fcb6-405b-abe7-130a3ba63fa8",
       "origId": 0,
       "parentHierarchy": [],
       "pivotAggregation": null,
       "pivotColumns": null,
       "position": 22.0,
       "resultDbfsErrorMessage": null,
       "resultDbfsStatus": "INLINED_IN_TREE",
       "results": null,
       "showCommandTitle": false,
       "startTime": 0,
       "state": "input",
       "streamStates": {},
       "subcommandOptions": {
        "queryPlan": {
         "groups": [
          {
           "column": "Causa_Falha",
           "type": "column"
          }
         ],
         "selects": [
          {
           "column": "Causa_Falha",
           "type": "column"
          },
          {
           "alias": "column_a32a45b898",
           "args": [
            {
             "column": "Tempo_Total_Parada_Horas",
             "type": "column"
            }
           ],
           "function": "SUM",
           "type": "function"
          }
         ]
        }
       },
       "submitTime": 0,
       "subtype": "tableResultSubCmd.visualization",
       "tableResultIndex": 0,
       "tableResultSettingsMap": {},
       "useConsistentColors": false,
       "version": "CommandV1",
       "width": "1264",
       "workflows": null,
       "xColumns": null,
       "yColumns": null
      }
     },
     "output_type": "display_data"
    }
   ],
   "source": [
    "%python\n",
    "#Gráfico de Top 5 Causas de Falha por Tempo de Parada\n",
    "\n",
    "# Comando para rodar a consulta SQL e armazenar o resultado em um DataFrame\n",
    "df_top_causas = spark.sql(\"\"\"\n",
    "SELECT\n",
    "    Causa_Falha,\n",
    "    COUNT(ID_Ocorrencia) AS Numero_Ocorrencias,\n",
    "    SUM(Duracao_Parada_Horas) AS Tempo_Total_Parada_Horas\n",
    "FROM workspace.default.manutencao_gold\n",
    "GROUP BY Causa_Falha\n",
    "ORDER BY Tempo_Total_Parada_Horas DESC\n",
    "LIMIT 5\n",
    "\"\"\")\n",
    "\n",
    "# Exibe o gráfico de barras no Databricks\n",
    "display(df_top_causas)"
   ]
  }
 ],
 "metadata": {
  "application/vnd.databricks.v1+notebook": {
   "computePreferences": {
    "hardware": {
     "accelerator": null,
     "gpuPoolId": null,
     "memory": null
    }
   },
   "dashboards": [],
   "environmentMetadata": {
    "base_environment": "",
    "environment_version": "3"
   },
   "inputWidgetPreferences": null,
   "language": "sql",
   "notebookMetadata": {
    "pythonIndentUnit": 4
   },
   "notebookName": "Projeto_Manutencao_Industrial_SQL",
   "widgets": {}
  },
  "language_info": {
   "name": "sql"
  }
 },
 "nbformat": 4,
 "nbformat_minor": 0
}
